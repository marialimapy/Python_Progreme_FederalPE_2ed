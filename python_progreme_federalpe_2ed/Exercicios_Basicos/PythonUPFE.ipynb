{
  "nbformat": 4,
  "nbformat_minor": 0,
  "metadata": {
    "colab": {
      "provenance": [],
      "toc_visible": true
    },
    "kernelspec": {
      "name": "python3",
      "display_name": "Python 3"
    },
    "language_info": {
      "name": "python"
    }
  },
  "cells": [
    {
      "cell_type": "markdown",
      "source": [
        "# Montando o Google Drive no Colab\n"
      ],
      "metadata": {
        "id": "-M5BJFQcAUDy"
      }
    },
    {
      "cell_type": "code",
      "execution_count": null,
      "metadata": {
        "colab": {
          "base_uri": "https://localhost:8080/"
        },
        "id": "N_a-uhsHGO5o",
        "outputId": "92d99d25-0399-480f-ede3-8c0900e621e4"
      },
      "outputs": [
        {
          "output_type": "stream",
          "name": "stdout",
          "text": [
            "Drive already mounted at /content/drive; to attempt to forcibly remount, call drive.mount(\"/content/drive\", force_remount=True).\n"
          ]
        }
      ],
      "source": [
        "from google.colab import drive\n",
        "drive.mount('/content/drive')"
      ]
    },
    {
      "cell_type": "markdown",
      "source": [
        " # Exemplo de input e print 🚀\n"
      ],
      "metadata": {
        "id": "Sfb7LWAocv2O"
      }
    },
    {
      "cell_type": "code",
      "source": [
        "nome= input(\"Digite seu nome:\")\n",
        "sobrenome= input(\"Digite seu sobre nome:\")\n",
        "print(\"Olá,\" +nome+ \" \" +sobrenome+ \"!\")"
      ],
      "metadata": {
        "id": "GqwOVug_hQBI",
        "colab": {
          "base_uri": "https://localhost:8080/"
        },
        "outputId": "f86a8d80-8ca9-4688-fd27-f11bfb7b532e"
      },
      "execution_count": null,
      "outputs": [
        {
          "output_type": "stream",
          "name": "stdout",
          "text": [
            "Digite seu nome:Maria \n",
            "Digite seu sobre nome:lima\n",
            "Olá,Maria  lima!\n"
          ]
        }
      ]
    },
    {
      "cell_type": "markdown",
      "source": [
        " # Entrada de números e operação matemática ➕"
      ],
      "metadata": {
        "id": "P50l0ICvBIja"
      }
    },
    {
      "cell_type": "code",
      "source": [
        "n1= input(\"Digite um número:\")\n",
        "n2= input(\"Digite mais um número:\")\n",
        "n3= input(\"Digite outro número:\")\n",
        "resultado= int(n1)*int(n2)+int(n3)\n",
        "print(\"O resultado dessa operação foi: \", resultado)\n"
      ],
      "metadata": {
        "id": "QOU_hUqBi-xO"
      },
      "execution_count": null,
      "outputs": []
    },
    {
      "cell_type": "markdown",
      "source": [
        "# Exemplo de operações aritméticas em Python"
      ],
      "metadata": {
        "id": "AL8AU7oDBoB0"
      }
    },
    {
      "cell_type": "code",
      "source": [
        "# Operações matemáticas básicas com três números\n",
        "\n",
        "n1 = float(input(\"Digite um número:\"))\n",
        "n2 = float(input(\"Digite mais um número:\"))\n",
        "n3 = float(input(\"Digite outro número:\"))\n",
        "\n",
        "# Soma\n",
        "resultado = n1 + n2 + n3\n",
        "print(\"O resultado dessa adição é:\", resultado)\n",
        "\n",
        "# Subtração\n",
        "resultado = n1 - n2 - n3\n",
        "print(\"O resultado dessa subtração é:\", resultado)\n",
        "\n",
        "# Multiplicação\n",
        "resultado = n1 * n2 * n3\n",
        "print(\"O resultado dessa multiplicação é:\", resultado)\n",
        "\n",
        "# Divisão\n",
        "resultado = n1 / n2 / n3\n",
        "print(\"O resultado dessa divisão é:\", resultado)\n",
        "\n",
        "# Divisão inteira\n",
        "resultado = n1 // n2 // n3\n",
        "print(\"O resultado dessa divisão inteira é:\", resultado)\n",
        "\n",
        "# Resto da divisão\n",
        "resultado = n1 % n2 % n3\n",
        "print(\"O resultado desse resto na divisão é:\", resultado)\n",
        "\n",
        "# Exponenciação\n",
        "resultado = n1 ** n2 ** n3\n",
        "print(\"O resultado dessa exponenciação é:\", resultado)\n"
      ],
      "metadata": {
        "id": "bvbHs8maczpA",
        "colab": {
          "base_uri": "https://localhost:8080/"
        },
        "outputId": "1fefc255-d13d-4855-da37-1a8fc0619760"
      },
      "execution_count": 5,
      "outputs": [
        {
          "output_type": "stream",
          "name": "stdout",
          "text": [
            "Digite um número:2\n",
            "Digite mais um número:3\n",
            "Digite outro número:4\n",
            "O resultado dessa adição é: 9.0\n",
            "O resultado dessa subtração é: -5.0\n",
            "O resultado dessa multiplicação é: 24.0\n",
            "O resultado dessa divisão é: 0.16666666666666666\n",
            "O resultado dessa divisão inteira é: 0.0\n",
            "O resultado desse resto na divisão é: 2.0\n",
            "O resultado dessa exponenciação é: 2.4178516392292583e+24\n"
          ]
        }
      ]
    },
    {
      "cell_type": "markdown",
      "source": [
        "# Entrada de dados e formatação de saída\n"
      ],
      "metadata": {
        "id": "EyDWAKtMCq_c"
      }
    },
    {
      "cell_type": "code",
      "source": [
        "# Entrada de dados com formatação de saída\n",
        "\n",
        "# Solicita que o usuário digite seu nome e guarda na variável 'nome'\n",
        "nome = input(\"Qual o seu nome?\")\n",
        "\n",
        "# Solicita que o usuário digite sua idade e converte para inteiro\n",
        "idade = int(input(\"Quantos anos você tem?\"))\n",
        "\n",
        "# Solicita que o usuário digite seu salário e converte para ponto flutuante\n",
        "salario = float(input(\"Qual o valor do seu salário?\"))\n",
        "\n",
        "# Exibe uma mensagem formatada com as informações fornecidas pelo usuário\n",
        "# {nome:10} → reserva 10 espaços para o nome\n",
        "# {idade:5} → reserva 5 espaços para a idade\n",
        "# {salario:10.5f} → reserva 10 espaços para o salário com 5 casas decimais\n",
        "print(f\"Você se chama: {nome:10} , tem {idade:5}, e recebe {salario:10.5f}\")\n"
      ],
      "metadata": {
        "id": "sHk6JzfuiXHu",
        "colab": {
          "base_uri": "https://localhost:8080/"
        },
        "outputId": "c4ceca86-a42b-4250-f0c7-883cd29ae855"
      },
      "execution_count": 6,
      "outputs": [
        {
          "output_type": "stream",
          "name": "stdout",
          "text": [
            "Qual o seu nome?Cecília\n",
            "Quantos anos você tem?32\n",
            "Qual o valor do seu salário?8.400\n",
            "Você se chama: Cecília    , tem    32, e recebe    8.40000\n"
          ]
        }
      ]
    },
    {
      "cell_type": "markdown",
      "source": [],
      "metadata": {
        "id": "pUv4NuriC1zw"
      }
    },
    {
      "cell_type": "markdown",
      "source": [
        "# Entrada de dados pessoais e formatação"
      ],
      "metadata": {
        "id": "tEJhw080DBCs"
      }
    },
    {
      "cell_type": "code",
      "source": [
        "nome=input(\"Qual é o seu nome?\")\n",
        "sobrenome=input(\"Qual é o seu sobrenome?\")\n",
        "idade= int(input(\"Quantos anos você tem?\"))\n",
        "salario= float(input(\"Qual o valor do seu salário?\"))\n",
        "print(f\"Seu nome e sobrenome são {nome:6} {sobrenome:6} você tem {idade:3} anos e recebe {salario:10.5f}\")"
      ],
      "metadata": {
        "id": "KGTEp5tCytB-"
      },
      "execution_count": null,
      "outputs": []
    },
    {
      "cell_type": "code",
      "source": [
        "nome=input(\"Digite seu nome:\")\n",
        "sobrenome=input(\"Agora seu sobrenome:\")\n",
        "idade=int(input(\"Quantos anos você tem?\"))\n",
        "salario=float(input(\"Você ganha quanto na sua empresa?\"))\n",
        "print(f\"Seu nome e sobrenome são: {nome:6} {sobrenome:8} sua idade é: {idade+1:3} e você recebe um salário de {salario:6.3f} certo?\")"
      ],
      "metadata": {
        "id": "7KupHpNnsAOp"
      },
      "execution_count": null,
      "outputs": []
    },
    {
      "cell_type": "markdown",
      "source": [
        "1. Escreva um programa que leia as 2 notas de um aluno em uma disciplina, depois exiba quantos pontos o aluno ficou distante da nota 10 para cada avaliação, sua média e quantos pontos a média do aluno ficou distante da nota 10."
      ],
      "metadata": {
        "id": "4IItvDRjDGuW"
      }
    },
    {
      "cell_type": "code",
      "source": [
        "aluno=input(\"Qual o seu nome e sobrenome?\")\n",
        "matricula=int(input(\"Qual o número da sua matrícula?\"))\n",
        "av1=float(input(\"Sua primeira nota foi:\")) #informar número 9  #linha 1\n",
        "av2=float(input(\"Sua segunda nota foi:\")) #informar número 2   #linha 2\n",
        "nota1= 10-av1 #linha 3\n",
        "print(\"Faltou:\" ,av1, \"para chegar em 10\") #linha 4\n",
        "nota2= 10-av2 #linha 5\n",
        "print(\"Faltou:\" ,av2, \"para chegar em 10\") #linha 6\n",
        "media=(av1+av2)/2 #linha 7\n",
        "print(\"sua média foi:\", media) #linha 8\n",
        "resultado_final= 10-media  #linha 9\n",
        "print(\"Faltou:\" ,resultado_final, \"para chegar em 10\") #linha 10\n",
        "\n"
      ],
      "metadata": {
        "id": "E0DaUJyU4Yld"
      },
      "execution_count": null,
      "outputs": []
    },
    {
      "cell_type": "markdown",
      "source": [
        "2. Escreva um programa que, dado um dos lados de um quadrado, exiba a sua área e o seu perímetro."
      ],
      "metadata": {
        "id": "r05fCo7KDP27"
      }
    },
    {
      "cell_type": "code",
      "source": [
        "lado1=int(input(\"Qual o valor do lado 1?\"))\n",
        "area= lado1**2\n",
        "print(\"A área do quadrado é:\", area)\n",
        "perimetro= lado1*4\n",
        "print(\"o número do perímetro é igual a:\", perimetro)"
      ],
      "metadata": {
        "id": "koW2gOll_RBD"
      },
      "execution_count": null,
      "outputs": []
    },
    {
      "cell_type": "markdown",
      "source": [
        "3. Faça um programa que, solicite a altura e o raio de um cilindro, calcule o volume total do cilindro (use π=3.14) e exiba esse valor."
      ],
      "metadata": {
        "id": "m9Ze_jVrDV2g"
      }
    },
    {
      "cell_type": "code",
      "source": [
        "import math\n",
        "\n",
        "altura=float(input(\"Qual a altura do cilíndro?\"))\n",
        "raio=float(input(\"Qual o raio do cilíndro?\"))\n",
        "volume_total= math.pi*(raio**2)*altura\n",
        "print(f\"O volume total do cilindro é de: {volume_total:10.6f}\")\n"
      ],
      "metadata": {
        "id": "d39sSZctYY5F"
      },
      "execution_count": null,
      "outputs": []
    },
    {
      "cell_type": "code",
      "source": [
        "altura=float(input(\"Qual a altura do cilindro?\"))\n",
        "raio=float(input(\"Qual o raio do cilindro?\"))\n",
        "\n",
        "pi=3.14\n",
        "\n",
        "volume_total= pi*(raio**2)*altura\n",
        "print(f\"O valor do volume total do cilíndro é de: {volume_total:.2f}\")\n"
      ],
      "metadata": {
        "id": "IJ8NtrU5cm4X"
      },
      "execution_count": null,
      "outputs": []
    },
    {
      "cell_type": "markdown",
      "source": [
        "4. Escreva um programa que receba o nome de uma pessoa e sua idade em anos. O programa deve calcular e exibir a idade da pessoa em meses e dias, considerando que um ano tem 12 meses e um mês tem 30 dias.\n"
      ],
      "metadata": {
        "id": "sfSfQgmkDhOS"
      }
    },
    {
      "cell_type": "code",
      "source": [
        "nome=(input(\"Qual o seu nome?\"))\n",
        "idade=int(input(\"Quantos anos você tem?\"))\n",
        "anos= idade*12\n",
        "print(f\"Você tem {anos} meses de vida\")\n",
        "meses= anos*30\n",
        "print(f\"Você tem {meses} dias de vida\")"
      ],
      "metadata": {
        "id": "vTEB7TmYcG3B"
      },
      "execution_count": null,
      "outputs": []
    },
    {
      "cell_type": "markdown",
      "source": [
        "5. Escreva um programa que receba a idade de uma pessoa em dias. Em seguida, converta essa idade para anos, meses e dias, e exiba o resultado. Para fazer essa conversão, assuma que um ano tem 365 dias e um mês tem 30 dias.\n"
      ],
      "metadata": {
        "id": "O7X0ucTlEUEN"
      }
    },
    {
      "cell_type": "code",
      "source": [
        "nome=(input(\"QUal o seu nome?\"))\n",
        "idade=int(input(\"Quantos anos tu tem em dias?\"))\n",
        "anos= idade//365\n",
        "meses=(idade%365)//30\n",
        "dias= (idade%365)%30\n",
        "print(f\"Você se chama,{nome}, tem {anos} anos, {meses} meses e {dias} dias\")\n"
      ],
      "metadata": {
        "id": "Y4UP-1a-hPm8",
        "colab": {
          "base_uri": "https://localhost:8080/"
        },
        "outputId": "a0c1e13d-e33c-41e2-d4e5-2139ff10c4a8"
      },
      "execution_count": null,
      "outputs": [
        {
          "output_type": "stream",
          "name": "stdout",
          "text": [
            "QUal o seu nome?maria\n",
            "Quantos anos tu tem em dias?54666\n",
            "Você se chama,maria, tem 149 anos, 9 meses e 11 dias\n"
          ]
        }
      ]
    },
    {
      "cell_type": "markdown",
      "source": [
        "6. Escreva um programa que, a partir de um valor de custo e de um valor de\n",
        "venda, mostre o valor do lucro obtido com a venda do produto"
      ],
      "metadata": {
        "id": "XehmNLObELe9"
      }
    },
    {
      "cell_type": "code",
      "source": [
        "custo=float(input(\"Quanto esse produto custou?\"))\n",
        "venda=float(input(\"Por quanto esse produto foi vendido?\"))\n",
        "lucro= venda-custo\n",
        "print(f\"Seu lucro foi de R${lucro:4.2f}\")"
      ],
      "metadata": {
        "colab": {
          "base_uri": "https://localhost:8080/"
        },
        "id": "Xe0vUrtzoz8q",
        "outputId": "b0526b85-fc1f-4fd3-bc70-d40006cb6f13"
      },
      "execution_count": null,
      "outputs": [
        {
          "output_type": "stream",
          "name": "stdout",
          "text": [
            "Quanto esse produto custou?75.44\n",
            "Por quanto esse produto foi vendido?150.12\n",
            "Seu lucro foi de R$74.68\n"
          ]
        }
      ]
    },
    {
      "cell_type": "markdown",
      "source": [
        "7. Escreva um programa que, leia um valor de custo e o percentual de lucro desejado, e na sequencia mostre o valor final do produto;"
      ],
      "metadata": {
        "id": "r2Y4nqnVUCYa"
      }
    },
    {
      "cell_type": "code",
      "source": [
        "custo=float(input(\"Quanto esse produto custou?\"))\n",
        "lucro_desejado=int(input(\"Qual a porcentagem do lucro você quer?\"))\n",
        "lucro= custo*(lucro_desejado/100)\n",
        "preco_final= custo+lucro\n",
        "print(f\"O valor do lucro vai ser de R${lucro} e o valor de venda vai ser o de R${preco_final:2f}\")\n"
      ],
      "metadata": {
        "colab": {
          "base_uri": "https://localhost:8080/"
        },
        "id": "FTVo0uZGqUkA",
        "outputId": "f3567d1c-0ed6-44e2-cc8c-c604974237a4"
      },
      "execution_count": null,
      "outputs": [
        {
          "output_type": "stream",
          "name": "stdout",
          "text": [
            "Quanto esse produto custou?45.60\n",
            "Qual a porcentagem do lucro você quer?75\n",
            "O valor do lucro vai ser de R$34.2 e o valor de venda vai ser o de R$79.800000\n"
          ]
        }
      ]
    },
    {
      "cell_type": "markdown",
      "source": [
        "8. Escreva um programa que, leia um valor de venda e um percentual de desconto, e depois apresente o valor a ser pago pelo produto e o valor do desconto que foi concedido;"
      ],
      "metadata": {
        "id": "frO3Sm6SUJUa"
      }
    },
    {
      "cell_type": "code",
      "source": [
        "valor=float(input(\"Qual o valor desse produto?\"))\n",
        "desconto=int(input(\"Qual o valor do desconto aplicado?\"))\n",
        "valor_final=valor-(valor*desconto/100)\n",
        "desconto_concedido= valor-valor_final\n",
        "print(f\"O valor final do produto com desconto foi de R${valor_final:3.2f} e o valor do desconto foi de R${desconto_concedido:3.2f}.\")"
      ],
      "metadata": {
        "colab": {
          "base_uri": "https://localhost:8080/"
        },
        "id": "ZAQC-_mMtfky",
        "outputId": "3d662c5c-70ba-4c38-a8d5-3285a8bfad6b"
      },
      "execution_count": null,
      "outputs": [
        {
          "output_type": "stream",
          "name": "stdout",
          "text": [
            "Qual o valor desse produto?45.3\n",
            "Qual o valor do desconto aplicado?10\n",
            "O valor final do produto com desconto foi de R$40.77 e o valor do desconto foi de R$4.53.\n"
          ]
        }
      ]
    },
    {
      "cell_type": "markdown",
      "source": [
        "9. Considerando que o valor do m² para concretar um piso é R$50. Escreva um programa que leia as medidas de um terreno retangular e informe quanto custa para concretá-lo por inteiro."
      ],
      "metadata": {
        "id": "23vG1721UNlU"
      }
    },
    {
      "cell_type": "code",
      "source": [
        "comprimento=float(input(\"Qual o comprimento do seu terreno?\"))\n",
        "largura=float(input(\"Qual a largura do seu terreno?\"))\n",
        "preco_metro= 50\n",
        "area= comprimento*largura\n",
        "preco= area*preco_metro\n",
        "print(f\"Para concretar tudo vai sair no valor de R${preco:3.2f}\")"
      ],
      "metadata": {
        "colab": {
          "base_uri": "https://localhost:8080/"
        },
        "id": "19lkuu4UxFZU",
        "outputId": "44e683c1-44a3-4624-f685-f1dd62c5e728"
      },
      "execution_count": null,
      "outputs": [
        {
          "output_type": "stream",
          "name": "stdout",
          "text": [
            "Qual o comprimento do seu terreno?12\n",
            "Qual a largura do seu terreno?6\n",
            "Para concretar tudo vai sair no valor de R$3600.00\n"
          ]
        }
      ]
    },
    {
      "cell_type": "markdown",
      "source": [
        "10. Escreva um programa que leia o salário de uma pessoa, quantas horas ela trabalha por dia e quantos dias ela trabalhou no mês. Em seguida, calcule e exiba quanto essa pessoa recebe por hora."
      ],
      "metadata": {
        "id": "ybfjzph2USrJ"
      }
    },
    {
      "cell_type": "code",
      "source": [
        "nome=input(\"Como você se chama?\")\n",
        "salario=float(input(\"Qual o seu salário?\"))\n",
        "horas_dia=int(input(\"Quantas horas você trabalha por dia?\"))\n",
        "dias_mes=int(input(\"Quantos dias você trabalha por mês?\"))\n",
        "hora= salario /(horas_dia*dias_mes)\n",
        "print(f\"{nome}, você trabalhou {dias_mes} esse mês e recebeu um valor de R${hora:2.2f} por cada hora trabalhada!\")"
      ],
      "metadata": {
        "colab": {
          "base_uri": "https://localhost:8080/"
        },
        "id": "pAad2eVYzCB4",
        "outputId": "edec85ce-1641-4f18-97e1-96452c1c9de0"
      },
      "execution_count": null,
      "outputs": [
        {
          "output_type": "stream",
          "name": "stdout",
          "text": [
            "Como você se chama?maria\n",
            "Qual o seu salário?1600\n",
            "Quantas horas você trabalha por dia?10\n",
            "Quantos dias você trabalha por mês?22\n",
            "maria, você trabalhou 22 esse mês e recebeu um valor de R$7.27 por cada hora trabalhada!\n"
          ]
        }
      ]
    },
    {
      "cell_type": "markdown",
      "source": [
        "11. Crie um programa que receba uma temperatura em Celsius e, considerando as seguintes fórmulas K=C+273 e F=1,8C+32, exiba a temperatura lida usando as escalas Kelvin (K) e Fahrenheit (F)."
      ],
      "metadata": {
        "id": "Ctx7boDJUXSX"
      }
    },
    {
      "cell_type": "code",
      "source": [
        "graus=int(input(\"Quantos graus está fazendo agora?\"))\n",
        "kelvin= graus+273\n",
        "temperatura_f= 1.8*graus+32\n",
        "print(f\"Está fazendo {graus}° celcius agora, logo em kelvin está fazendo {kelvin}° e em Fahrenheit está fazendo {temperatura_f:2.2f}° mesma temperatura em unidades de medidas diferentes!\")"
      ],
      "metadata": {
        "colab": {
          "base_uri": "https://localhost:8080/"
        },
        "id": "n0rZqSza4J8J",
        "outputId": "65dd5654-0491-46fe-87b7-2618d823f66d"
      },
      "execution_count": null,
      "outputs": [
        {
          "output_type": "stream",
          "name": "stdout",
          "text": [
            "Quantos graus está fazendo agora?25\n",
            "Está fazendo 25° celcius agora, logo em kelvin está fazendo 298° e em Fahrenheit está fazendo 77.00° mesma temperatura em unidades de medidas diferentes!\n"
          ]
        }
      ]
    },
    {
      "cell_type": "markdown",
      "source": [
        "12. Considerando que em um show: 1) 45% dos ingressos vendidos foram meia-entrada; 2) 55% dos ingressos vendidos foram inteiros; 3)O valor do ingresso inteiro custava R$123,45 e 4) o total de ingressos vendidos foi 6.789. Escreva um programa que calcule e exiba:\n",
        "\n",
        "    a) A quantidade de ingressos meia-entrada e inteira vendidos.\n",
        "\n",
        "    b) O valor faturado com cada tipo de ingresso.\n",
        "\n",
        "    c) O valor total faturado."
      ],
      "metadata": {
        "id": "L7RL472KUcLk"
      }
    },
    {
      "cell_type": "code",
      "source": [
        "ingresso=float(input(\"Qual o valor do ingresso desse evento?\"))\n",
        "total_vendido=float(input(\"Quantos ingressos foram vendidos ao total?\"))\n",
        "meia_entrada= (total_vendido*45/100)\n",
        "inteira= (total_vendido*55/100)\n",
        "print(f\"Foram vendidos ao todo {total_vendido} ingressos. Sendo {meia_entrada:2.3f} de meia entrada, e {inteira:2.3f} de entradas inteiras.\")\n",
        "faturamento_meia= (meia_entrada*(ingresso/2))\n",
        "faturamento_inteira= (inteira*ingresso)\n",
        "print(f\"Foi faturado R${faturamento_meia:.3f} com os ingressos meia entrada e R${faturamento_inteira:.3f} com a venda de ingressos inteiros.\")\n",
        "faturamento_total= (faturamento_meia+faturamento_inteira)\n",
        "print(f\"Todo o evento teve um faturamento total no valor de R${faturamento_total:.3f},00 o evento foi um sucesso!\")\n",
        "\n",
        "\n"
      ],
      "metadata": {
        "id": "ziZOs72k7GDL",
        "colab": {
          "base_uri": "https://localhost:8080/"
        },
        "outputId": "85885b27-fb0c-4605-b284-92ec65f505e0"
      },
      "execution_count": null,
      "outputs": [
        {
          "output_type": "stream",
          "name": "stdout",
          "text": [
            "Qual o valor do ingresso desse evento?123.45\n",
            "Quantos ingressos foram vendidos ao total?6.789\n",
            "Foram vendidos ao todo 6.789 ingressos. Sendo 3.055 de meia entrada, e 3.734 de entradas inteiras.\n",
            "Foi faturado R$188.573 com os ingressos meia entrada e R$460.956 com a venda de ingressos inteiros.\n",
            "Todo o evento teve um faturamento total no valor de R$649.529,00 o evento foi um sucesso!\n"
          ]
        }
      ]
    },
    {
      "cell_type": "markdown",
      "source": [
        "13. Considerando que a altura de um prédio está para a altura de uma pessoa assim como a sombra de um prédio está para a sombra de uma pessoa (isto é, altura_predio/altura_pessoa = sombra_predio/sombra_pessoa), faça um programa para estimar a altura de um prédio, a partir da leitura da sombra do prédio, da sombra da pessoa e da altura da pessoa."
      ],
      "metadata": {
        "id": "Nm4xhBrJUfpf"
      }
    },
    {
      "cell_type": "code",
      "source": [
        "altura_pessoa=float(input(\"Qual a altura da pessoa?\"))\n",
        "sombra_pessoa=float(input(\"Qual a altura da sua sombra?\"))\n",
        "sombra_predio=float(input(\"Qual a altura da sombra do prédio?\"))\n",
        "altura_predio= altura_pessoa*(sombra_predio/sombra_pessoa)\n",
        "print(f\"A altura do prédio é de {altura_predio:2.2f} metros!\")\n"
      ],
      "metadata": {
        "colab": {
          "base_uri": "https://localhost:8080/"
        },
        "id": "6lX3DHwKowgH",
        "outputId": "516da0ac-35c0-4b03-a1d5-9cca1beb58e7"
      },
      "execution_count": null,
      "outputs": [
        {
          "output_type": "stream",
          "name": "stdout",
          "text": [
            "Qual a altura da pessoa?1.65\n",
            "Qual a altura da sua sombra?2.18\n",
            "Qual a altura da sombra do prédio?8.14\n",
            "A altura do prédio é de 6.16 metros!\n"
          ]
        }
      ]
    },
    {
      "cell_type": "markdown",
      "source": [
        "14. Escreva um programa para gerar o invertido de um número com três algarismos\n",
        "(exemplo: o invertido de 123 é 321). Dicas:\n",
        "\n",
        "1) a unidade de um número é calculada assim: unidade = numero % 10;\n",
        "\n",
        "2) a dezena de um número é calculada assim: dezena = (numero // 10) % 10 e\n",
        "\n",
        "3) a centena de um número é calculada assim: centena = numero // 100, onde: // retorna o quociente (resultado) de uma divisão inteira e % retorna o resto de uma divisão inteira."
      ],
      "metadata": {
        "id": "MqcBaHJ_UkIm"
      }
    },
    {
      "cell_type": "code",
      "source": [
        "sequencia_numerica=int(input(\"Digite uma sequencia de 3 números:\"))\n",
        "unidade= sequencia_numerica%10\n",
        "dezena= (sequencia_numerica%100)//10\n",
        "centena= (sequencia_numerica//100)\n",
        "invertido= (unidade*100)+(dezena*10)+centena\n",
        "print(f\"A sequencia invertida ficou {invertido} assim.\")"
      ],
      "metadata": {
        "colab": {
          "base_uri": "https://localhost:8080/"
        },
        "id": "3vwOq8EPs1d5",
        "outputId": "4a0317dc-f47c-46ad-a979-7a28229de010"
      },
      "execution_count": null,
      "outputs": [
        {
          "output_type": "stream",
          "name": "stdout",
          "text": [
            "Digite uma sequencia de 3 números:897\n",
            "A sequencia invertida ficou 798 assim.\n"
          ]
        }
      ]
    },
    {
      "cell_type": "markdown",
      "source": [
        "15. Escreva um programa que permute (troque) o valor de duas variáveis inteiras. **DICA**: use uma terceira variável para armazenar temporariamente o valor a ser trocado."
      ],
      "metadata": {
        "id": "0uR1hgxtUnJm"
      }
    },
    {
      "cell_type": "code",
      "source": [
        "var1=int(input(\"Digite um número:\"))\n",
        "var2=int(input(\"Digite outro número:\"))\n",
        "temp=var1\n",
        "var1=var2\n",
        "var2=var1\n",
        "print(f\"Os valores invertidos ficam {var1} e {temp}\")"
      ],
      "metadata": {
        "colab": {
          "base_uri": "https://localhost:8080/"
        },
        "id": "ja2jnHtzxq8c",
        "outputId": "930c0749-78b4-482e-9940-8004e04fb334"
      },
      "execution_count": null,
      "outputs": [
        {
          "output_type": "stream",
          "name": "stdout",
          "text": [
            "Digite um número:5\n",
            "Digite outro número:4\n",
            "Os valores invertidos ficam 4 e 5\n"
          ]
        }
      ]
    }
  ]
}